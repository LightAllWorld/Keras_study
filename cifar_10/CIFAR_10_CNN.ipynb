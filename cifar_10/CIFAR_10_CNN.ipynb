{
  "nbformat": 4,
  "nbformat_minor": 0,
  "metadata": {
    "colab": {
      "name": "CIFAR_10_CNN.ipynb",
      "provenance": [],
      "collapsed_sections": [],
      "authorship_tag": "ABX9TyPzxBnCnbJFRyaXItGTBqZ0",
      "include_colab_link": true
    },
    "kernelspec": {
      "name": "python3",
      "display_name": "Python 3"
    }
  },
  "cells": [
    {
      "cell_type": "markdown",
      "metadata": {
        "id": "view-in-github",
        "colab_type": "text"
      },
      "source": [
        "<a href=\"https://colab.research.google.com/github/LightAllWorld/keras_study/blob/master/CIFAR_10_CNN.ipynb\" target=\"_parent\"><img src=\"https://colab.research.google.com/assets/colab-badge.svg\" alt=\"Open In Colab\"/></a>"
      ]
    },
    {
      "cell_type": "code",
      "metadata": {
        "id": "mmt6v7QBjCpM",
        "colab_type": "code",
        "colab": {
          "base_uri": "https://localhost:8080/",
          "height": 35
        },
        "outputId": "abdc224d-c82b-4db1-f75f-85e69332727a"
      },
      "source": [
        "import keras\n",
        "from keras.models import Sequential\n",
        "from keras.layers import Dense, Conv2D, Dropout, MaxPooling2D\n",
        "from keras.layers import Activation, Flatten\n",
        "from keras.utils import np_utils"
      ],
      "execution_count": null,
      "outputs": [
        {
          "output_type": "stream",
          "text": [
            "Using TensorFlow backend.\n"
          ],
          "name": "stderr"
        }
      ]
    },
    {
      "cell_type": "code",
      "metadata": {
        "id": "23R-gtpcjhxm",
        "colab_type": "code",
        "colab": {
          "base_uri": "https://localhost:8080/",
          "height": 54
        },
        "outputId": "41235ef3-9ba8-4381-dd6e-d33047b3970a"
      },
      "source": [
        "(t_X, t_Y), (p_X, p_Y) = keras.datasets.cifar10.load_data()"
      ],
      "execution_count": null,
      "outputs": [
        {
          "output_type": "stream",
          "text": [
            "Downloading data from https://www.cs.toronto.edu/~kriz/cifar-10-python.tar.gz\n",
            "170500096/170498071 [==============================] - 11s 0us/step\n"
          ],
          "name": "stdout"
        }
      ]
    },
    {
      "cell_type": "code",
      "metadata": {
        "id": "1BfuJwyWsdne",
        "colab_type": "code",
        "colab": {}
      },
      "source": [
        "dropout = 0.5\n",
        "img_rows = 32\n",
        "img_cols = 32\n",
        "num_classes = len(set(t_Y.flatten()))\n",
        "batchsize = 32\n",
        "epoch = 50"
      ],
      "execution_count": null,
      "outputs": []
    },
    {
      "cell_type": "code",
      "metadata": {
        "id": "aWzmS3qlBdQe",
        "colab_type": "code",
        "colab": {}
      },
      "source": [
        "t_Y = np_utils.to_categorical(t_Y, num_classes)\n",
        "p_Y = np_utils.to_categorical(p_Y, num_classes)"
      ],
      "execution_count": null,
      "outputs": []
    },
    {
      "cell_type": "code",
      "metadata": {
        "id": "ztEwPDP1jEte",
        "colab_type": "code",
        "colab": {}
      },
      "source": [
        "class my_model:\n",
        "  def __init__(self):\n",
        "    self.model = Sequential()\n",
        "    # layer1\n",
        "    self.model.add(Conv2D(64, (3, 3),\n",
        "                          padding='same',\n",
        "                          input_shape=(img_rows, img_cols, 3)))\n",
        "    self.model.add(Dropout(dropout))\n",
        "    self.model.add(Conv2D(64, (3, 3),\n",
        "                          padding='same', activation='relu'))\n",
        "    self.model.add(Dropout(dropout))\n",
        "    self.model.add(MaxPooling2D(pool_size=(2, 2)))\n",
        "\n",
        "    #layer2\n",
        "    self.model.add(Conv2D(128, (3, 3),\n",
        "                          padding='same', activation='relu'))\n",
        "    self.model.add(Dropout(dropout))\n",
        "    self.model.add(Conv2D(128, (3, 3),\n",
        "                          padding='same', activation='relu'))\n",
        "    self.model.add(MaxPooling2D(pool_size=(2, 2)))\n",
        "\n",
        "    # Flatten layer\n",
        "    self.model.add(Flatten())\n",
        "\n",
        "    # Dense Layer\n",
        "    self.model.add(Dense(512, activation='relu'))\n",
        "    self.model.add(Dense(128, activation='relu'))\n",
        "    self.model.add(Dense(num_classes, activation='softmax'))\n",
        "\n",
        "    self.model.compile(loss='categorical_crossentropy',\n",
        "                       optimizer='adam',\n",
        "                       metrics=['accuracy'])\n",
        "    \n",
        "    # self.model.summary()\n",
        "\n",
        "  def summary(self):\n",
        "    print(self.model.summary())\n",
        "    \n",
        "  def run(self, t_X, t_Y, p_X, p_Y):\n",
        "    self.model.fit(t_X, t_Y, validation_data=(p_X, p_Y),\n",
        "                   epochs=epoch,\n",
        "                   batch_size=batchsize)\n",
        "    # self.model.evaluate(p_X, p_Y, verbose=0)\n"
      ],
      "execution_count": null,
      "outputs": []
    },
    {
      "cell_type": "code",
      "metadata": {
        "id": "P8djFEaT0KVp",
        "colab_type": "code",
        "colab": {
          "base_uri": "https://localhost:8080/",
          "height": 1000
        },
        "outputId": "74fe5c82-d599-420f-9a94-997389c2d018"
      },
      "source": [
        "model = my_model()\n",
        "# model.summary()\n",
        "model.run(t_X, t_Y, p_X, p_Y)"
      ],
      "execution_count": null,
      "outputs": [
        {
          "output_type": "stream",
          "text": [
            "Train on 50000 samples, validate on 10000 samples\n",
            "Epoch 1/50\n",
            "50000/50000 [==============================] - 883s 18ms/step - loss: 2.8864 - accuracy: 0.2474 - val_loss: 1.9305 - val_accuracy: 0.3025\n",
            "Epoch 2/50\n",
            "50000/50000 [==============================] - 885s 18ms/step - loss: 1.6353 - accuracy: 0.3985 - val_loss: 1.6873 - val_accuracy: 0.4029\n",
            "Epoch 3/50\n",
            "50000/50000 [==============================] - 882s 18ms/step - loss: 1.5300 - accuracy: 0.4473 - val_loss: 1.6332 - val_accuracy: 0.4385\n",
            "Epoch 4/50\n",
            "50000/50000 [==============================] - 886s 18ms/step - loss: 1.4698 - accuracy: 0.4739 - val_loss: 1.6670 - val_accuracy: 0.4239\n",
            "Epoch 5/50\n",
            "50000/50000 [==============================] - 894s 18ms/step - loss: 1.4053 - accuracy: 0.5039 - val_loss: 1.4435 - val_accuracy: 0.5113\n",
            "Epoch 6/50\n",
            "50000/50000 [==============================] - 894s 18ms/step - loss: 1.3422 - accuracy: 0.5312 - val_loss: 1.4752 - val_accuracy: 0.4930\n",
            "Epoch 7/50\n",
            "50000/50000 [==============================] - 896s 18ms/step - loss: 1.2759 - accuracy: 0.5567 - val_loss: 1.3922 - val_accuracy: 0.5286\n",
            "Epoch 8/50\n",
            "50000/50000 [==============================] - 890s 18ms/step - loss: 1.2096 - accuracy: 0.5847 - val_loss: 1.2840 - val_accuracy: 0.5776\n",
            "Epoch 9/50\n",
            "50000/50000 [==============================] - 888s 18ms/step - loss: 1.1688 - accuracy: 0.5986 - val_loss: 1.2447 - val_accuracy: 0.5850\n",
            "Epoch 10/50\n",
            "50000/50000 [==============================] - 910s 18ms/step - loss: 1.1294 - accuracy: 0.6171 - val_loss: 1.2988 - val_accuracy: 0.5619\n",
            "Epoch 11/50\n",
            "50000/50000 [==============================] - 951s 19ms/step - loss: 1.0948 - accuracy: 0.6282 - val_loss: 1.2194 - val_accuracy: 0.5959\n",
            "Epoch 12/50\n",
            "50000/50000 [==============================] - 896s 18ms/step - loss: 1.0585 - accuracy: 0.6430 - val_loss: 1.2065 - val_accuracy: 0.5870\n",
            "Epoch 13/50\n",
            "50000/50000 [==============================] - 898s 18ms/step - loss: 1.0458 - accuracy: 0.6508 - val_loss: 1.1926 - val_accuracy: 0.6006\n",
            "Epoch 14/50\n",
            "50000/50000 [==============================] - 913s 18ms/step - loss: 1.0149 - accuracy: 0.6590 - val_loss: 1.1697 - val_accuracy: 0.6081\n",
            "Epoch 15/50\n",
            "50000/50000 [==============================] - 905s 18ms/step - loss: 0.9969 - accuracy: 0.6661 - val_loss: 1.1282 - val_accuracy: 0.6265\n",
            "Epoch 16/50\n",
            "50000/50000 [==============================] - 901s 18ms/step - loss: 0.9886 - accuracy: 0.6688 - val_loss: 1.1672 - val_accuracy: 0.6005\n",
            "Epoch 17/50\n",
            "50000/50000 [==============================] - 907s 18ms/step - loss: 0.9658 - accuracy: 0.6803 - val_loss: 1.1278 - val_accuracy: 0.6343\n",
            "Epoch 18/50\n",
            "50000/50000 [==============================] - 925s 18ms/step - loss: 0.9487 - accuracy: 0.6871 - val_loss: 1.0749 - val_accuracy: 0.6407\n",
            "Epoch 19/50\n",
            "50000/50000 [==============================] - 907s 18ms/step - loss: 0.9425 - accuracy: 0.6910 - val_loss: 1.3735 - val_accuracy: 0.5403\n",
            "Epoch 20/50\n",
            "50000/50000 [==============================] - 913s 18ms/step - loss: 0.9211 - accuracy: 0.6978 - val_loss: 1.1778 - val_accuracy: 0.6006\n",
            "Epoch 21/50\n",
            "50000/50000 [==============================] - 905s 18ms/step - loss: 0.9215 - accuracy: 0.6975 - val_loss: 1.1027 - val_accuracy: 0.6257\n",
            "Epoch 22/50\n",
            "50000/50000 [==============================] - 926s 19ms/step - loss: 0.9181 - accuracy: 0.7002 - val_loss: 1.1821 - val_accuracy: 0.6176\n",
            "Epoch 23/50\n",
            "50000/50000 [==============================] - 917s 18ms/step - loss: 0.9036 - accuracy: 0.7088 - val_loss: 1.0617 - val_accuracy: 0.6407\n",
            "Epoch 24/50\n",
            "50000/50000 [==============================] - 916s 18ms/step - loss: 0.8687 - accuracy: 0.7166 - val_loss: 1.1147 - val_accuracy: 0.6351\n",
            "Epoch 25/50\n",
            "50000/50000 [==============================] - 907s 18ms/step - loss: 0.8742 - accuracy: 0.7173 - val_loss: 1.1034 - val_accuracy: 0.6414\n",
            "Epoch 26/50\n",
            "50000/50000 [==============================] - 956s 19ms/step - loss: 0.8687 - accuracy: 0.7223 - val_loss: 1.4469 - val_accuracy: 0.5325\n",
            "Epoch 27/50\n",
            "50000/50000 [==============================] - 910s 18ms/step - loss: 0.9239 - accuracy: 0.7026 - val_loss: 1.1769 - val_accuracy: 0.6210\n",
            "Epoch 28/50\n",
            "50000/50000 [==============================] - 919s 18ms/step - loss: 0.8841 - accuracy: 0.7191 - val_loss: 1.1092 - val_accuracy: 0.6403\n",
            "Epoch 29/50\n",
            "50000/50000 [==============================] - 894s 18ms/step - loss: 0.8258 - accuracy: 0.7358 - val_loss: 1.1536 - val_accuracy: 0.6294\n",
            "Epoch 30/50\n",
            "50000/50000 [==============================] - 889s 18ms/step - loss: 0.8868 - accuracy: 0.7236 - val_loss: 1.1537 - val_accuracy: 0.6366\n",
            "Epoch 31/50\n",
            "50000/50000 [==============================] - 886s 18ms/step - loss: 0.9220 - accuracy: 0.7156 - val_loss: 1.3765 - val_accuracy: 0.5560\n",
            "Epoch 32/50\n",
            "50000/50000 [==============================] - 907s 18ms/step - loss: 0.9250 - accuracy: 0.7127 - val_loss: 1.1554 - val_accuracy: 0.6287\n",
            "Epoch 33/50\n",
            "50000/50000 [==============================] - 903s 18ms/step - loss: 0.8462 - accuracy: 0.7369 - val_loss: 1.1223 - val_accuracy: 0.6483\n",
            "Epoch 34/50\n",
            "50000/50000 [==============================] - 904s 18ms/step - loss: 0.8418 - accuracy: 0.7386 - val_loss: 1.1470 - val_accuracy: 0.6412\n",
            "Epoch 35/50\n",
            "50000/50000 [==============================] - 954s 19ms/step - loss: 0.8701 - accuracy: 0.7352 - val_loss: 1.1466 - val_accuracy: 0.6324\n",
            "Epoch 36/50\n",
            "50000/50000 [==============================] - 936s 19ms/step - loss: 0.9362 - accuracy: 0.7102 - val_loss: 1.1768 - val_accuracy: 0.6322\n",
            "Epoch 37/50\n",
            "38432/50000 [======================>.......] - ETA: 3:20 - loss: 0.8747 - accuracy: 0.7307Buffered data was truncated after reaching the output size limit."
          ],
          "name": "stdout"
        }
      ]
    },
    {
      "cell_type": "code",
      "metadata": {
        "id": "AsuFHMx-0qxS",
        "colab_type": "code",
        "colab": {}
      },
      "source": [
        ""
      ],
      "execution_count": null,
      "outputs": []
    }
  ]
}